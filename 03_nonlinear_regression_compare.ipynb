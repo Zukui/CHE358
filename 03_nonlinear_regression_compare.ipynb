{
  "nbformat": 4,
  "nbformat_minor": 0,
  "metadata": {
    "colab": {
      "name": "03_nonlinear_regression_compare.ipynb",
      "provenance": [],
      "collapsed_sections": [],
      "authorship_tag": "ABX9TyNHoU3IZ3bCyEmU2YeArBCY",
      "include_colab_link": true
    },
    "kernelspec": {
      "name": "python3",
      "display_name": "Python 3"
    }
  },
  "cells": [
    {
      "cell_type": "markdown",
      "metadata": {
        "id": "view-in-github",
        "colab_type": "text"
      },
      "source": [
        "<a href=\"https://colab.research.google.com/github/Zukui/CHE358_python/blob/master/03_nonlinear_regression_compare.ipynb\" target=\"_parent\"><img src=\"https://colab.research.google.com/assets/colab-badge.svg\" alt=\"Open In Colab\"/></a>"
      ]
    },
    {
      "cell_type": "code",
      "metadata": {
        "id": "Jgdsy0hbbhzF",
        "colab_type": "code",
        "colab": {}
      },
      "source": [
        "import numpy as np\n",
        "import matplotlib.pyplot as plt \n",
        "import pandas as pd\n",
        "\n",
        "url = 'https://raw.githubusercontent.com/Zukui/CHE358_python/master/exdata.csv'\n",
        "df = pd.read_csv(url)\n",
        "#print(df.to_string())"
      ],
      "execution_count": 0,
      "outputs": []
    },
    {
      "cell_type": "code",
      "metadata": {
        "id": "oMU_tYsHXmYF",
        "colab_type": "code",
        "colab": {}
      },
      "source": [
        ""
      ],
      "execution_count": 0,
      "outputs": []
    },
    {
      "cell_type": "markdown",
      "metadata": {
        "id": "e1VgFREJKp-f",
        "colab_type": "text"
      },
      "source": [
        "# data"
      ]
    },
    {
      "cell_type": "code",
      "metadata": {
        "id": "s0d3O3mCKohR",
        "colab_type": "code",
        "outputId": "12cb1c5e-3d13-4755-c7c8-c734ff011414",
        "colab": {
          "base_uri": "https://localhost:8080/",
          "height": 279
        }
      },
      "source": [
        "data = df.to_numpy()\n",
        "\n",
        "#data =np.array([[1, 1.3601],\n",
        "#\t              [1.5, 2.2411],\n",
        "#\t              [2.0, 3.6940]])\n",
        "\n",
        "x = data[:,0]\n",
        "y = data[:,1]\n",
        "n = len(y)\n",
        "x = x.reshape(n,1)\n",
        "y = y.reshape(n,1)\n",
        "plt.plot(x, y, 'b*')   # scatter plot showing actual data\n",
        "plt.xlabel('x')\n",
        "plt.ylabel('y')\n",
        "plt.show()"
      ],
      "execution_count": 14,
      "outputs": [
        {
          "output_type": "display_data",
          "data": {
            "image/png": "[encoded data removed]",
            "text/plain": [
              "<Figure size 432x288 with 1 Axes>"
            ]
          },
          "metadata": {
            "tags": [],
            "needs_background": "light"
          }
        }
      ]
    },
    {
      "cell_type": "markdown",
      "metadata": {
        "id": "XL_pEL4fNjdG",
        "colab_type": "text"
      },
      "source": [
        "## using linear regression based on transformed model"
      ]
    },
    {
      "cell_type": "code",
      "metadata": {
        "id": "YjvLcfHOLycp",
        "colab_type": "code",
        "colab": {}
      },
      "source": [
        "Y = np.log(y)\n",
        "X = np.concatenate((np.ones((n,1)), x),axis=1)\n",
        "#print(X)\n",
        "#print(Y)"
      ],
      "execution_count": 0,
      "outputs": []
    },
    {
      "cell_type": "code",
      "metadata": {
        "id": "VzwMh4u5NsZu",
        "colab_type": "code",
        "outputId": "f24e9c16-bfd9-4c6d-8d25-984134754edf",
        "colab": {
          "base_uri": "https://localhost:8080/",
          "height": 68
        }
      },
      "source": [
        "C = np.linalg.inv(X.T@X)\n",
        "newtheta = C@X.T@Y\n",
        "hat_theta = newtheta\n",
        "hat_theta[0] = np.exp(newtheta[0]) # estimation result\n",
        "hat_theta[1] = newtheta[1]\n",
        "print(\"estimation using linear regression:\\n theta0=\", hat_theta[0], \"theta1=\", hat_theta[1], \"\\n\")"
      ],
      "execution_count": 16,
      "outputs": [
        {
          "output_type": "stream",
          "text": [
            "estimation using linear regression:\n",
            " theta0= [11.93119629] theta1= [-0.44623397] \n",
            "\n"
          ],
          "name": "stdout"
        }
      ]
    },
    {
      "cell_type": "code",
      "metadata": {
        "id": "N4E-vC6laMeU",
        "colab_type": "code",
        "outputId": "be1e4d9d-cc4e-4885-9f17-714d6ea8487e",
        "colab": {
          "base_uri": "https://localhost:8080/",
          "height": 404
        }
      },
      "source": [
        "ypred =  hat_theta[0]*np.exp(hat_theta[1]*x)\n",
        "\n",
        "# Plot regression against actual data\n",
        "plt.figure(figsize=(12, 6))\n",
        "plt.plot(x, ypred, 'ro')     # regression line\n",
        "plt.plot(x, y, 'b*')   # scatter plot showing actual data\n",
        "plt.title('Actual vs Predicted')\n",
        "plt.xlabel('x')\n",
        "plt.ylabel('y')\n",
        "plt.show()"
      ],
      "execution_count": 17,
      "outputs": [
        {
          "output_type": "display_data",
          "data": {
            "image/png": "[encoded data removed]",
            "text/plain": [
              "<Figure size 864x432 with 1 Axes>"
            ]
          },
          "metadata": {
            "tags": [],
            "needs_background": "light"
          }
        }
      ]
    },
    {
      "cell_type": "code",
      "metadata": {
        "id": "1WYCBOX8dzok",
        "colab_type": "code",
        "outputId": "cfa0b028-e9c1-462f-bfe2-3b28a0d1fecf",
        "colab": {
          "base_uri": "https://localhost:8080/",
          "height": 34
        }
      },
      "source": [
        "e = y-ypred\n",
        "bar_y = sum(y)/n\n",
        "SST = sum((y-bar_y)**2)\n",
        "SSR = sum((ypred-bar_y)**2)\n",
        "SSE = e.T@e;\n",
        "p=2\n",
        "k=2\n",
        "MSE = SSE/(n-p);\n",
        "\n",
        "#R2 = SSR/SST   # R square\n",
        "R_adj2 = 1-SSE/(n-p)/(SST/(n-1))  # R adjusted square\n",
        "\n",
        "#print(\"R2= \",R2)\n",
        "print(R_adj2)"
      ],
      "execution_count": 18,
      "outputs": [
        {
          "output_type": "stream",
          "text": [
            "[[0.56139843]]\n"
          ],
          "name": "stdout"
        }
      ]
    },
    {
      "cell_type": "code",
      "metadata": {
        "id": "nB4TbDwSeP6Y",
        "colab_type": "code",
        "outputId": "5eb76eab-0386-45b2-bd8b-b5d68069a82e",
        "colab": {
          "base_uri": "https://localhost:8080/",
          "height": 279
        }
      },
      "source": [
        "std_e = e/np.sqrt(MSE)\n",
        "\n",
        "plt.scatter(np.arange(1, n+1, 1), std_e) \n",
        "plt.xlabel('observation id')\n",
        "plt.ylabel('standardized residual')\n",
        "plt.show()"
      ],
      "execution_count": 19,
      "outputs": [
        {
          "output_type": "display_data",
          "data": {
            "image/png": "[encoded data removed]",
            "text/plain": [
              "<Figure size 432x288 with 1 Axes>"
            ]
          },
          "metadata": {
            "tags": [],
            "needs_background": "light"
          }
        }
      ]
    },
    {
      "cell_type": "code",
      "metadata": {
        "id": "BVoBIC5KebXx",
        "colab_type": "code",
        "outputId": "f8525569-dd6f-403f-ed22-b6c5b95358e8",
        "colab": {
          "base_uri": "https://localhost:8080/",
          "height": 279
        }
      },
      "source": [
        "\n",
        "plt.plot(np.log(ypred), std_e,'bo') \n",
        "plt.xlabel('predicted y')\n",
        "plt.ylabel('standardized residual')\n",
        "plt.show()"
      ],
      "execution_count": 20,
      "outputs": [
        {
          "output_type": "display_data",
          "data": {
            "image/png": "[encoded data removed]",
            "text/plain": [
              "<Figure size 432x288 with 1 Axes>"
            ]
          },
          "metadata": {
            "tags": [],
            "needs_background": "light"
          }
        }
      ]
    },
    {
      "cell_type": "markdown",
      "metadata": {
        "id": "syhocYNyQTbF",
        "colab_type": "text"
      },
      "source": [
        "## now, start the nonlinear least square algorithm"
      ]
    },
    {
      "cell_type": "code",
      "metadata": {
        "id": "oYIMyK35QUuH",
        "colab_type": "code",
        "outputId": "21efd730-222f-4da6-9f04-b5354df5a7a9",
        "colab": {
          "base_uri": "https://localhost:8080/",
          "height": 238
        }
      },
      "source": [
        "Y = y\n",
        "theta = hat_theta\n",
        "flag = 1\n",
        "i = 1\n",
        "while flag:\n",
        "    print(\"============== iteration \",i,\"=============\")\n",
        "    print(\"theta=\", theta[:,-1])\n",
        "    F = theta[0,-1]*np.exp(theta[1,-1]*x)\n",
        "    #print(\"Function value F=\",F)\n",
        "    Z = Y - F\n",
        "    D = np.concatenate((np.exp(theta[1,-1]*x),  theta[0,-1]*x*np.exp(theta[1,-1]*x)), axis=1)\n",
        "    #print(\"Jacobian matrix D=\",D)\n",
        "    \n",
        "    dtheta = (np.linalg.inv(D.T@D))@D.T@Z\n",
        "    print(\"norm of dtheta\", np.linalg.norm(dtheta))\n",
        "\n",
        "    theta = np.concatenate((theta, theta+dtheta),axis=1)\n",
        "    \n",
        "    if np.linalg.norm(dtheta) < 0.001: \n",
        "        flag = 0\n",
        "    i = i+1\n",
        "\n",
        "hat_theta = theta[:,-1] # final estimator\n",
        "print(\"final estimator: \", hat_theta)"
      ],
      "execution_count": 21,
      "outputs": [
        {
          "output_type": "stream",
          "text": [
            "============== iteration  1 =============\n",
            "theta= [11.93119629 -0.44623397]\n",
            "norm of dtheta 3.4751937092275282\n",
            "============== iteration  2 =============\n",
            "theta= [ 8.46002823 -0.27901062]\n",
            "norm of dtheta 0.36172417785118366\n",
            "============== iteration  3 =============\n",
            "theta= [ 8.8216073  -0.28925546]\n",
            "norm of dtheta 0.007786012599031004\n",
            "============== iteration  4 =============\n",
            "theta= [ 8.81385946 -0.28848542]\n",
            "norm of dtheta 0.0006699289279644172\n",
            "final estimator:  [ 8.81452798 -0.28852879]\n"
          ],
          "name": "stdout"
        }
      ]
    },
    {
      "cell_type": "code",
      "metadata": {
        "id": "0gcr7-H2fH1Z",
        "colab_type": "code",
        "outputId": "433fecc3-ea12-4c21-9829-102fcc6e2c77",
        "colab": {
          "base_uri": "https://localhost:8080/",
          "height": 404
        }
      },
      "source": [
        "ypred =  theta[0,-1]*np.exp(theta[1,-1]*x)\n",
        "\n",
        "# Plot regression against actual data\n",
        "plt.figure(figsize=(12, 6))\n",
        "plt.plot(x, ypred, 'ro')     # regression line\n",
        "plt.plot(x, y, 'b*')   # scatter plot showing actual data\n",
        "plt.title('Actual vs Predicted')\n",
        "plt.xlabel('x')\n",
        "plt.ylabel('y')\n",
        "plt.show()"
      ],
      "execution_count": 22,
      "outputs": [
        {
          "output_type": "display_data",
          "data": {
            "image/png": "[encoded data removed]",
            "text/plain": [
              "<Figure size 864x432 with 1 Axes>"
            ]
          },
          "metadata": {
            "tags": [],
            "needs_background": "light"
          }
        }
      ]
    },
    {
      "cell_type": "code",
      "metadata": {
        "id": "iOly26cYhU6h",
        "colab_type": "code",
        "outputId": "47d2cfd9-a836-412c-b383-a3314715c90f",
        "colab": {
          "base_uri": "https://localhost:8080/",
          "height": 34
        }
      },
      "source": [
        "e = y-ypred\n",
        "bar_y = sum(y)/n\n",
        "SST = sum((y-bar_y)**2)\n",
        "SSR = sum((ypred-bar_y)**2)\n",
        "SSE = e.T@e;\n",
        "p=2\n",
        "k=2\n",
        "MSE = SSE/(n-p);\n",
        "\n",
        "#R2 = SSR/SST   # R square\n",
        "R_adj2 = 1-SSE/(n-p)/(SST/(n-1))  # R adjusted square\n",
        "\n",
        "print(\"R2_adj= \",R_adj2)\n"
      ],
      "execution_count": 23,
      "outputs": [
        {
          "output_type": "stream",
          "text": [
            "R2_adj=  [[0.79020787]]\n"
          ],
          "name": "stdout"
        }
      ]
    },
    {
      "cell_type": "code",
      "metadata": {
        "id": "lh7v7XXyhbLQ",
        "colab_type": "code",
        "outputId": "8244cf5d-3206-4b2b-f88f-1a52d57deb62",
        "colab": {
          "base_uri": "https://localhost:8080/",
          "height": 280
        }
      },
      "source": [
        "std_e = e/np.sqrt(MSE)\n",
        "\n",
        "plt.scatter(np.arange(1, n+1, 1), std_e) \n",
        "plt.xlabel('observation id')\n",
        "plt.ylabel('standardized residual')\n",
        "plt.show()"
      ],
      "execution_count": 24,
      "outputs": [
        {
          "output_type": "display_data",
          "data": {
            "image/png": "[encoded data removed]",
            "text/plain": [
              "<Figure size 432x288 with 1 Axes>"
            ]
          },
          "metadata": {
            "tags": [],
            "needs_background": "light"
          }
        }
      ]
    },
    {
      "cell_type": "markdown",
      "metadata": {
        "id": "SWKUfBCNL3vN",
        "colab_type": "text"
      },
      "source": [
        "## ========================================="
      ]
    }
  ]
}