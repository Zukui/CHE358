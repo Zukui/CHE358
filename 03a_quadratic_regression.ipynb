{
  "nbformat": 4,
  "nbformat_minor": 0,
  "metadata": {
    "colab": {
      "name": "03a_quadratic_regression.ipynb",
      "provenance": [],
      "collapsed_sections": [],
      "authorship_tag": "ABX9TyOrIumV2a4QrozQ1mUrfiMF",
      "include_colab_link": true
    },
    "kernelspec": {
      "name": "python3",
      "display_name": "Python 3"
    }
  },
  "cells": [
    {
      "cell_type": "markdown",
      "metadata": {
        "id": "view-in-github",
        "colab_type": "text"
      },
      "source": [
        "<a href=\"https://colab.research.google.com/github/Zukui/CHE358_python/blob/master/03a_quadratic_regression.ipynb\" target=\"_parent\"><img src=\"https://colab.research.google.com/assets/colab-badge.svg\" alt=\"Open In Colab\"/></a>"
      ]
    },
    {
      "cell_type": "markdown",
      "metadata": {
        "id": "hAIyW3Kwku9W",
        "colab_type": "text"
      },
      "source": [
        "# linear regression applied to quadratic model through transformation"
      ]
    },
    {
      "cell_type": "code",
      "metadata": {
        "id": "FcuAArjwT9_H",
        "colab_type": "code",
        "colab": {}
      },
      "source": [
        "import numpy as np\n",
        "import matplotlib.pyplot as plt \n"
      ],
      "execution_count": 0,
      "outputs": []
    },
    {
      "cell_type": "markdown",
      "metadata": {
        "id": "l44iDf9cT-tM",
        "colab_type": "text"
      },
      "source": [
        "## data"
      ]
    },
    {
      "cell_type": "code",
      "metadata": {
        "id": "-iynEWzHreJw",
        "colab_type": "code",
        "outputId": "05b8b0c0-b903-495c-f0b6-7c9a96ddce8c",
        "colab": {
          "base_uri": "https://localhost:8080/",
          "height": 279
        }
      },
      "source": [
        "data=np.array([[15 , 22.3 ],\n",
        "               [20 , 25.5 ],\n",
        "               [25 , 27.5 ],\n",
        "               [30 , 29.0 ],\n",
        "               [35 , 28.8 ],\n",
        "               [40 , 30.0 ],\n",
        "               [45 , 29.9 ],\n",
        "               [50 , 30.2 ],\n",
        "               [55 , 30.4 ],\n",
        "               [60 , 28.8 ],\n",
        "               [65 , 27.4 ],\n",
        "               [70 , 25.3 ],\n",
        "               [70 , 25.3 ],\n",
        "               [75 , 23.3]])\n",
        "n = len(data[:,0])\n",
        "x = data[:,0]\n",
        "y = data[:,1]\n",
        "\n",
        "plt.scatter(x,y) \n",
        "plt.xlabel('speed')\n",
        "plt.ylabel('mileage')\n",
        "plt.show()"
      ],
      "execution_count": 2,
      "outputs": [
        {
          "output_type": "display_data",
          "data": {
            "image/png": "[encoded data removed]",
            "text/plain": [
              "<Figure size 432x288 with 1 Axes>"
            ]
          },
          "metadata": {
            "tags": [],
            "needs_background": "light"
          }
        }
      ]
    },
    {
      "cell_type": "code",
      "metadata": {
        "id": "rcF_oZEQT-2L",
        "colab_type": "code",
        "outputId": "12db1eda-814a-4eb1-b1c5-9e3ee81832d6",
        "colab": {
          "base_uri": "https://localhost:8080/",
          "height": 255
        }
      },
      "source": [
        "Y = y\n",
        "k = 2\n",
        "p = 3\n",
        "X = np.concatenate((np.ones((n,1)), x.reshape(n,1)),axis=1)\n",
        "X = np.concatenate((X, (x.reshape(n,1))**2),axis=1)\n",
        "print(X)"
      ],
      "execution_count": 3,
      "outputs": [
        {
          "output_type": "stream",
          "text": [
            "[[1.000e+00 1.500e+01 2.250e+02]\n",
            " [1.000e+00 2.000e+01 4.000e+02]\n",
            " [1.000e+00 2.500e+01 6.250e+02]\n",
            " [1.000e+00 3.000e+01 9.000e+02]\n",
            " [1.000e+00 3.500e+01 1.225e+03]\n",
            " [1.000e+00 4.000e+01 1.600e+03]\n",
            " [1.000e+00 4.500e+01 2.025e+03]\n",
            " [1.000e+00 5.000e+01 2.500e+03]\n",
            " [1.000e+00 5.500e+01 3.025e+03]\n",
            " [1.000e+00 6.000e+01 3.600e+03]\n",
            " [1.000e+00 6.500e+01 4.225e+03]\n",
            " [1.000e+00 7.000e+01 4.900e+03]\n",
            " [1.000e+00 7.000e+01 4.900e+03]\n",
            " [1.000e+00 7.500e+01 5.625e+03]]\n"
          ],
          "name": "stdout"
        }
      ]
    },
    {
      "cell_type": "markdown",
      "metadata": {
        "id": "9OGhU0UClFKl",
        "colab_type": "text"
      },
      "source": [
        "## least square estimation"
      ]
    },
    {
      "cell_type": "code",
      "metadata": {
        "id": "Kc3XfP8-WKA1",
        "colab_type": "code",
        "outputId": "f8adfba4-6622-4918-d136-aa8153fa18e1",
        "colab": {
          "base_uri": "https://localhost:8080/",
          "height": 34
        }
      },
      "source": [
        "C = np.linalg.inv(X.T@X)\n",
        "hat_theta = C@X.T@Y\n",
        "print(hat_theta)"
      ],
      "execution_count": 4,
      "outputs": [
        {
          "output_type": "stream",
          "text": [
            "[ 1.34348686e+01  7.48552310e-01 -8.23731441e-03]\n"
          ],
          "name": "stdout"
        }
      ]
    },
    {
      "cell_type": "code",
      "metadata": {
        "id": "p0UWske5ss8I",
        "colab_type": "code",
        "outputId": "95f118ea-9c25-40c7-b9ce-2d5184778ce7",
        "colab": {
          "base_uri": "https://localhost:8080/",
          "height": 279
        }
      },
      "source": [
        "hat_Y = X@hat_theta\n",
        "plt.scatter(x,y) \n",
        "plt.plot(x,hat_Y,'ro-') \n",
        "plt.xlabel('speed')\n",
        "plt.ylabel('mileage')\n",
        "plt.show()"
      ],
      "execution_count": 5,
      "outputs": [
        {
          "output_type": "display_data",
          "data": {
            "image/png": "[encoded data removed]",
            "text/plain": [
              "<Figure size 432x288 with 1 Axes>"
            ]
          },
          "metadata": {
            "tags": [],
            "needs_background": "light"
          }
        }
      ]
    },
    {
      "cell_type": "markdown",
      "metadata": {
        "id": "XcoO-2CYlQOT",
        "colab_type": "text"
      },
      "source": [
        "## significance test"
      ]
    },
    {
      "cell_type": "code",
      "metadata": {
        "id": "XT7SqKJ7W10S",
        "colab_type": "code",
        "outputId": "4933b7c9-8e58-4fe1-8e35-711e11ddfe1d",
        "colab": {
          "base_uri": "https://localhost:8080/",
          "height": 68
        }
      },
      "source": [
        "bar_y = sum(Y)/n\n",
        "e = Y-hat_Y;\n",
        "\n",
        "SST = sum((Y-bar_y)**2)\n",
        "SSR = sum((hat_Y-bar_y)**2)\n",
        "SSE = e.T@e;\n",
        "\n",
        "MSE = SSE/(n-p);\n",
        "MSR = SSR/k;\n",
        "alpha = 0.05;\n",
        "\n",
        "from scipy.stats import f as f_dist\n",
        "f = f_dist.ppf(1-alpha,k, n-p)\n",
        "F0 = MSR/MSE    # ANOVA\n",
        "p_value = 1 - f_dist.cdf(F0, k, n-p)\n",
        "print(F0)\n",
        "print(f)\n",
        "print(p_value)\n",
        "\n"
      ],
      "execution_count": 6,
      "outputs": [
        {
          "output_type": "stream",
          "text": [
            "203.17465259538616\n",
            "3.9822979570944836\n",
            "2.064959092606955e-09\n"
          ],
          "name": "stdout"
        }
      ]
    },
    {
      "cell_type": "markdown",
      "metadata": {
        "id": "Mv5QXx5sqMZc",
        "colab_type": "text"
      },
      "source": [
        "## confidence interval of parameters"
      ]
    },
    {
      "cell_type": "code",
      "metadata": {
        "id": "DcNOfmgiqPBq",
        "colab_type": "code",
        "outputId": "1ce29eba-d5ac-4f14-9ade-f3c33813a557",
        "colab": {
          "base_uri": "https://localhost:8080/",
          "height": 51
        }
      },
      "source": [
        "from scipy.stats import t as t_dist\n",
        "t = t_dist.ppf(1-alpha/2,n-p)\n",
        "CI_theta_low = hat_theta-t*np.sqrt(MSE*np.diag(C))  # confidence intervals on parameters\n",
        "CI_theta_high = hat_theta+t*np.sqrt(MSE*np.diag(C))\n",
        "print(CI_theta_low)\n",
        "print(CI_theta_high)"
      ],
      "execution_count": 7,
      "outputs": [
        {
          "output_type": "stream",
          "text": [
            "[ 1.17301507e+01  6.65212434e-01 -9.13695637e-03]\n",
            "[ 1.51395864e+01  8.31892186e-01 -7.33767245e-03]\n"
          ],
          "name": "stdout"
        }
      ]
    },
    {
      "cell_type": "markdown",
      "metadata": {
        "id": "GcAsL7zCp5pb",
        "colab_type": "text"
      },
      "source": [
        "## R2"
      ]
    },
    {
      "cell_type": "code",
      "metadata": {
        "id": "7H8jJEG_p8wF",
        "colab_type": "code",
        "outputId": "e28a655f-2720-49dc-9b6c-c8ed29061a6d",
        "colab": {
          "base_uri": "https://localhost:8080/",
          "height": 51
        }
      },
      "source": [
        "R2 = SSR/SST   # R square\n",
        "R_adj2 = 1-SSE/(n-p)/(SST/(n-1))  # R adjusted square\n",
        "\n",
        "print(R2)\n",
        "print(R_adj2)"
      ],
      "execution_count": 8,
      "outputs": [
        {
          "output_type": "stream",
          "text": [
            "0.9736431812316729\n",
            "0.9688510323647056\n"
          ],
          "name": "stdout"
        }
      ]
    },
    {
      "cell_type": "markdown",
      "metadata": {
        "id": "-fd6InyZkOOJ",
        "colab_type": "text"
      },
      "source": [
        "## residual analysis"
      ]
    },
    {
      "cell_type": "code",
      "metadata": {
        "id": "JIIM3EKVkQh_",
        "colab_type": "code",
        "outputId": "825c2784-afb3-47fc-9978-ab3133442a6a",
        "colab": {
          "base_uri": "https://localhost:8080/",
          "height": 279
        }
      },
      "source": [
        "std_e = e/np.sqrt(MSE)\n",
        "\n",
        "plt.scatter(np.arange(1, n+1, 1), std_e) \n",
        "plt.xlabel('observation id')\n",
        "plt.ylabel('standardized residual')\n",
        "plt.show()"
      ],
      "execution_count": 9,
      "outputs": [
        {
          "output_type": "display_data",
          "data": {
            "image/png": "[encoded data removed]",
            "text/plain": [
              "<Figure size 432x288 with 1 Axes>"
            ]
          },
          "metadata": {
            "tags": [],
            "needs_background": "light"
          }
        }
      ]
    },
    {
      "cell_type": "code",
      "metadata": {
        "id": "ID7ikYqBt-i3",
        "colab_type": "code",
        "outputId": "61a09455-4eb5-4c75-87bf-d6876b6cd9ec",
        "colab": {
          "base_uri": "https://localhost:8080/",
          "height": 68
        }
      },
      "source": [
        "print(std_e)"
      ],
      "execution_count": 10,
      "outputs": [
        {
          "output_type": "stream",
          "text": [
            "[-1.0881559   0.8304039   1.06656964  1.11459917 -1.58709242 -0.42107742\n",
            " -1.15092189 -0.14771389  1.52121956  0.22696648  0.23883506 -0.36436337\n",
            " -0.36436337  0.12509445]\n"
          ],
          "name": "stdout"
        }
      ]
    },
    {
      "cell_type": "code",
      "metadata": {
        "id": "uv-FMKSMnsXR",
        "colab_type": "code",
        "outputId": "74e187ca-f7dc-4657-c5d2-4c4d67bb0e83",
        "colab": {
          "base_uri": "https://localhost:8080/",
          "height": 295
        }
      },
      "source": [
        "import scipy.stats as stats\n",
        "import pylab \n",
        "stats.probplot(std_e, dist=\"norm\", plot=pylab)\n",
        "pylab.show()"
      ],
      "execution_count": 11,
      "outputs": [
        {
          "output_type": "display_data",
          "data": {
            "image/png": "[encoded data removed]",
            "text/plain": [
              "<Figure size 432x288 with 1 Axes>"
            ]
          },
          "metadata": {
            "tags": [],
            "needs_background": "light"
          }
        }
      ]
    }
  ]
}