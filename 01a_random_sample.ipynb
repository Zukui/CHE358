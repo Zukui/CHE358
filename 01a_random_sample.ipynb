{
  "nbformat": 4,
  "nbformat_minor": 0,
  "metadata": {
    "kernelspec": {
      "display_name": "Python 3",
      "language": "python",
      "name": "python3"
    },
    "language_info": {
      "codemirror_mode": {
        "name": "ipython",
        "version": 3
      },
      "file_extension": ".py",
      "mimetype": "text/x-python",
      "name": "python",
      "nbconvert_exporter": "python",
      "pygments_lexer": "ipython3",
      "version": "3.7.6"
    },
    "colab": {
      "name": "01a_random_sample.ipynb",
      "provenance": [],
      "include_colab_link": true
    }
  },
  "cells": [
    {
      "cell_type": "markdown",
      "metadata": {
        "id": "view-in-github",
        "colab_type": "text"
      },
      "source": [
        "<a href=\"https://colab.research.google.com/github/Zukui/CHE358/blob/master/01a_random_sample.ipynb\" target=\"_parent\"><img src=\"https://colab.research.google.com/assets/colab-badge.svg\" alt=\"Open In Colab\"/></a>"
      ]
    },
    {
      "cell_type": "markdown",
      "metadata": {
        "id": "aCc53ic5y_-i",
        "colab_type": "text"
      },
      "source": [
        "Generate random sapmles from uniform distribution"
      ]
    },
    {
      "cell_type": "code",
      "metadata": {
        "id": "JGur8OTsy_-j",
        "colab_type": "code",
        "outputId": "8e7fba6f-f0a3-4263-c69c-f11d4e065b84",
        "colab": {}
      },
      "source": [
        "# import uniform distribution\n",
        "from scipy.stats import uniform\n",
        "\n",
        "# random numbers from uniform distribution\n",
        "n = 10000\n",
        "start = 10\n",
        "width = 20\n",
        "data_uniform = uniform.rvs(size=n, loc = start, scale=width)\n",
        "\n",
        "# plot the histogram\n",
        "import matplotlib.pyplot as plt\n",
        "plt.hist(data_uniform, bins=10)\n",
        "plt.show()"
      ],
      "execution_count": 0,
      "outputs": [
        {
          "output_type": "display_data",
          "data": {
            "image/png": "[encoded data removed]",
            "text/plain": [
              "<Figure size 432x288 with 1 Axes>"
            ]
          },
          "metadata": {
            "tags": [],
            "needs_background": "light"
          }
        }
      ]
    },
    {
      "cell_type": "markdown",
      "metadata": {
        "id": "yIvl1QCcy_-n",
        "colab_type": "text"
      },
      "source": [
        "Generate random samples from standard normal distribution "
      ]
    },
    {
      "cell_type": "code",
      "metadata": {
        "id": "jHUrvtk5y_-o",
        "colab_type": "code",
        "outputId": "381cc255-44da-4aab-e8c5-1655d26482bd",
        "colab": {}
      },
      "source": [
        "from scipy.stats import norm\n",
        "\n",
        "# generate random numbers from N(0,1)\n",
        "data_normal = norm.rvs(size=10000,loc=0,scale=1)\n",
        "\n",
        "plt.hist(data_normal, bins=100)\n",
        "plt.show()"
      ],
      "execution_count": 0,
      "outputs": [
        {
          "output_type": "display_data",
          "data": {
            "image/png": "[encoded data removed]",
            "text/plain": [
              "<Figure size 432x288 with 1 Axes>"
            ]
          },
          "metadata": {
            "tags": [],
            "needs_background": "light"
          }
        }
      ]
    },
    {
      "cell_type": "markdown",
      "metadata": {
        "id": "DdmzPQr8y_-t",
        "colab_type": "text"
      },
      "source": [
        "Calculate the cumulative distribution function value of standard normal P(Z<1)"
      ]
    },
    {
      "cell_type": "code",
      "metadata": {
        "id": "tDjZJSPDy_-t",
        "colab_type": "code",
        "outputId": "011ef40a-7d10-418f-d508-bddfa7bf6115",
        "colab": {}
      },
      "source": [
        "print(norm.cdf(1))"
      ],
      "execution_count": 0,
      "outputs": [
        {
          "output_type": "stream",
          "text": [
            "0.8413447460685429\n"
          ],
          "name": "stdout"
        }
      ]
    },
    {
      "cell_type": "code",
      "metadata": {
        "id": "AiQzIcX4y_-w",
        "colab_type": "code",
        "outputId": "6740c9d1-9bba-4a5e-e370-276e51c78c79",
        "colab": {}
      },
      "source": [
        "norm_cdf = norm.cdf(data_normal) # calculate the cdf at different value \n",
        "\n",
        "# plot the cdf\n",
        "import seaborn as sns\n",
        "sns.lineplot(x=data_normal, y=norm_cdf)\n",
        "plt.show()"
      ],
      "execution_count": 0,
      "outputs": [
        {
          "output_type": "display_data",
          "data": {
            "image/png": "[encoded data removed]",
            "text/plain": [
              "<Figure size 432x288 with 1 Axes>"
            ]
          },
          "metadata": {
            "tags": [],
            "needs_background": "light"
          }
        }
      ]
    },
    {
      "cell_type": "markdown",
      "metadata": {
        "id": "AYljl3CYy_-y",
        "colab_type": "text"
      },
      "source": [
        "empirical cdf from data points"
      ]
    },
    {
      "cell_type": "code",
      "metadata": {
        "id": "N7bc6kSAy_-y",
        "colab_type": "code",
        "outputId": "28d8eaf9-b416-4961-8de2-7819b148d86a",
        "colab": {}
      },
      "source": [
        "import numpy as np\n",
        "\n",
        "num_bins = 20\n",
        "counts, bin_edges = np.histogram(data_normal, bins=num_bins)\n",
        "cdf = np.cumsum (counts)\n",
        "plt.plot (bin_edges[1:], cdf/cdf[-1])  # bin_edges[1:] is the upper edge of each bin"
      ],
      "execution_count": 0,
      "outputs": [
        {
          "output_type": "execute_result",
          "data": {
            "text/plain": [
              "[<matplotlib.lines.Line2D at 0x7ff44721a510>]"
            ]
          },
          "metadata": {
            "tags": []
          },
          "execution_count": 11
        },
        {
          "output_type": "display_data",
          "data": {
            "image/png": "[encoded data removed]",
            "text/plain": [
              "<Figure size 432x288 with 1 Axes>"
            ]
          },
          "metadata": {
            "tags": [],
            "needs_background": "light"
          }
        }
      ]
    },
    {
      "cell_type": "code",
      "metadata": {
        "id": "OnZMDqlay_-1",
        "colab_type": "code",
        "outputId": "8e2da531-b985-4fc1-c3c5-12990380a90b",
        "colab": {}
      },
      "source": [
        "import numpy as np\n",
        "import statsmodels.api as sm # recommended import according to the docs\n",
        "import matplotlib.pyplot as plt\n",
        "\n",
        "sample = np.random.uniform(0, 1, 50)\n",
        "ecdf = sm.distributions.ECDF(sample)\n",
        "\n",
        "x = np.linspace(min(sample), max(sample))\n",
        "y = ecdf(x)\n",
        "plt.step(x, y)\n",
        "plt.show()"
      ],
      "execution_count": 0,
      "outputs": [
        {
          "output_type": "display_data",
          "data": {
            "image/png": "[encoded data removed]",
            "text/plain": [
              "<Figure size 432x288 with 1 Axes>"
            ]
          },
          "metadata": {
            "tags": [],
            "needs_background": "light"
          }
        }
      ]
    },
    {
      "cell_type": "code",
      "metadata": {
        "id": "MqKJVIzjy_-3",
        "colab_type": "code",
        "colab": {}
      },
      "source": [
        ""
      ],
      "execution_count": 0,
      "outputs": []
    }
  ]
}