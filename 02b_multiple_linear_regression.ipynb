{
  "nbformat": 4,
  "nbformat_minor": 0,
  "metadata": {
    "kernelspec": {
      "display_name": "Python 3",
      "language": "python",
      "name": "python3"
    },
    "language_info": {
      "codemirror_mode": {
        "name": "ipython",
        "version": 3
      },
      "file_extension": ".py",
      "mimetype": "text/x-python",
      "name": "python",
      "nbconvert_exporter": "python",
      "pygments_lexer": "ipython3",
      "version": "3.7.6"
    },
    "colab": {
      "name": "02b_multiple_linear_regression.ipynb",
      "provenance": [],
      "collapsed_sections": [],
      "include_colab_link": true
    }
  },
  "cells": [
    {
      "cell_type": "markdown",
      "metadata": {
        "id": "view-in-github",
        "colab_type": "text"
      },
      "source": [
        "<a href=\"https://colab.research.google.com/github/Zukui/CHE358/blob/master/02b_multiple_linear_regression.ipynb\" target=\"_parent\"><img src=\"https://colab.research.google.com/assets/colab-badge.svg\" alt=\"Open In Colab\"/></a>"
      ]
    },
    {
      "cell_type": "markdown",
      "metadata": {
        "id": "R8wIh0je1OyT",
        "colab_type": "text"
      },
      "source": [
        "Least square estimation using matrix inverse formula"
      ]
    },
    {
      "cell_type": "code",
      "metadata": {
        "id": "RUJnQuJR1OyU",
        "colab_type": "code",
        "outputId": "1ed7867c-6596-4298-a879-aaab1f0b4388",
        "colab": {}
      },
      "source": [
        "import numpy as np\n",
        "from scipy import linalg\n",
        "np.random.seed(seed=42) # make the example reproducible\n",
        "\n",
        "# Dataset\n",
        "N, P = 50, 4\n",
        "X = np.random.normal(size= N * P).reshape((N, P))\n",
        "\n",
        "## Our model needs an intercept so we add a column of 1s:\n",
        "X[:, 0] = 1\n",
        "print(X[:5, :])\n",
        "theta = np.array([10, 1., .5, 0.1]) # true model parameters\n",
        "e = np.random.normal(size=N)\n",
        "y = np.dot(X, theta) + e\n",
        "\n",
        "# Estimate the parameters\n",
        "Xpinv = linalg.pinv2(X)   # (X'X)^-1*X'\n",
        "thetahat = np.dot(Xpinv, y)\n",
        "print(\"Estimated theta:\\n\", thetahat)"
      ],
      "execution_count": 0,
      "outputs": [
        {
          "output_type": "stream",
          "text": [
            "[[ 1.         -0.1382643   0.64768854  1.52302986]\n",
            " [ 1.         -0.23413696  1.57921282  0.76743473]\n",
            " [ 1.          0.54256004 -0.46341769 -0.46572975]\n",
            " [ 1.         -1.91328024 -1.72491783 -0.56228753]\n",
            " [ 1.          0.31424733 -0.90802408 -1.4123037 ]]\n",
            "Estimated theta:\n",
            " [10.14742501  0.57938106  0.51654653  0.17862194]\n"
          ],
          "name": "stdout"
        }
      ]
    },
    {
      "cell_type": "code",
      "metadata": {
        "id": "-Ym414rx1OyY",
        "colab_type": "code",
        "colab": {}
      },
      "source": [
        ""
      ],
      "execution_count": 0,
      "outputs": []
    }
  ]
}