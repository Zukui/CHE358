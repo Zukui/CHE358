{
  "nbformat": 4,
  "nbformat_minor": 0,
  "metadata": {
    "colab": {
      "name": "02e_summary_ex.ipynb",
      "provenance": [],
      "collapsed_sections": [],
      "authorship_tag": "ABX9TyNp8ScNmiOT+P1MSOrjyCqN",
      "include_colab_link": true
    },
    "kernelspec": {
      "name": "python3",
      "display_name": "Python 3"
    }
  },
  "cells": [
    {
      "cell_type": "markdown",
      "metadata": {
        "id": "view-in-github",
        "colab_type": "text"
      },
      "source": [
        "<a href=\"https://colab.research.google.com/github/Zukui/CHE358_python/blob/master/02e_summary_ex.ipynb\" target=\"_parent\"><img src=\"https://colab.research.google.com/assets/colab-badge.svg\" alt=\"Open In Colab\"/></a>"
      ]
    },
    {
      "cell_type": "markdown",
      "metadata": {
        "id": "hAIyW3Kwku9W",
        "colab_type": "text"
      },
      "source": [
        "# Summary example for linear regression"
      ]
    },
    {
      "cell_type": "code",
      "metadata": {
        "id": "FcuAArjwT9_H",
        "colab_type": "code",
        "colab": {}
      },
      "source": [
        "import numpy as np\n",
        "import matplotlib.pyplot as plt \n"
      ],
      "execution_count": 0,
      "outputs": []
    },
    {
      "cell_type": "markdown",
      "metadata": {
        "id": "l44iDf9cT-tM",
        "colab_type": "text"
      },
      "source": [
        "## data"
      ]
    },
    {
      "cell_type": "code",
      "metadata": {
        "id": "rcF_oZEQT-2L",
        "colab_type": "code",
        "outputId": "2a550803-9317-4af2-d0a5-724cf3a3626f",
        "colab": {
          "base_uri": "https://localhost:8080/",
          "height": 221
        }
      },
      "source": [
        "data =np.array([[240,\t25,\t24,\t91,\t100],\n",
        "\t              [236,\t31,\t21,\t90,\t95],\n",
        "\t              [270,\t45,\t24,\t88,\t110],\n",
        "\t              [274,\t60,\t25,\t87,\t88],\n",
        "        \t      [301,\t65,\t25,\t91,\t94],\n",
        "        \t      [316,\t72,\t26,\t94,\t99],\n",
        "\t              [300,\t80,\t25,\t87,\t97],\n",
        "\t              [296,\t84,\t25,\t86,\t96],\n",
        "\t              [267,\t75,\t24,\t88,\t110],\n",
        "\t              [276,\t60,\t25,\t91,\t105],\n",
        "\t              [288,\t50,\t25,\t90,\t100],\n",
        "\t              [261,\t38,\t23,\t89,\t98]])\n",
        "\n",
        "\n",
        "Y = data[:,0]\n",
        "n = len(Y)\n",
        "k = 4\n",
        "p = 5\n",
        "X = np.concatenate((np.ones((n,1)), data[:,1:5]),axis=1)\n",
        "print(X)"
      ],
      "execution_count": 26,
      "outputs": [
        {
          "output_type": "stream",
          "text": [
            "[[  1.  25.  24.  91. 100.]\n",
            " [  1.  31.  21.  90.  95.]\n",
            " [  1.  45.  24.  88. 110.]\n",
            " [  1.  60.  25.  87.  88.]\n",
            " [  1.  65.  25.  91.  94.]\n",
            " [  1.  72.  26.  94.  99.]\n",
            " [  1.  80.  25.  87.  97.]\n",
            " [  1.  84.  25.  86.  96.]\n",
            " [  1.  75.  24.  88. 110.]\n",
            " [  1.  60.  25.  91. 105.]\n",
            " [  1.  50.  25.  90. 100.]\n",
            " [  1.  38.  23.  89.  98.]]\n"
          ],
          "name": "stdout"
        }
      ]
    },
    {
      "cell_type": "markdown",
      "metadata": {
        "id": "9OGhU0UClFKl",
        "colab_type": "text"
      },
      "source": [
        "## least square estimation"
      ]
    },
    {
      "cell_type": "code",
      "metadata": {
        "id": "Kc3XfP8-WKA1",
        "colab_type": "code",
        "outputId": "36bb84b2-eb85-40fe-dea6-a7867e3be16e",
        "colab": {
          "base_uri": "https://localhost:8080/",
          "height": 34
        }
      },
      "source": [
        "C = np.linalg.inv(X.T@X)\n",
        "hat_theta = C@X.T@Y\n",
        "print(hat_theta)"
      ],
      "execution_count": 12,
      "outputs": [
        {
          "output_type": "stream",
          "text": [
            "[-123.13124627    0.75728909    7.51878396    2.48307855   -0.48113523]\n"
          ],
          "name": "stdout"
        }
      ]
    },
    {
      "cell_type": "markdown",
      "metadata": {
        "id": "XcoO-2CYlQOT",
        "colab_type": "text"
      },
      "source": [
        "## significance test"
      ]
    },
    {
      "cell_type": "code",
      "metadata": {
        "id": "XT7SqKJ7W10S",
        "colab_type": "code",
        "outputId": "2ed9ceb7-cf5f-43b2-e7fb-52d7b98f6473",
        "colab": {
          "base_uri": "https://localhost:8080/",
          "height": 68
        }
      },
      "source": [
        "hat_Y = X@hat_theta\n",
        "bar_y = sum(Y)/n\n",
        "e = Y-hat_Y;\n",
        "\n",
        "SST = sum((Y-bar_y)**2)\n",
        "SSR = sum((hat_Y-bar_y)**2)\n",
        "SSE = e.T@e;\n",
        "\n",
        "MSE = SSE/(n-p);\n",
        "MSR = SSR/k;\n",
        "alpha = 0.05;\n",
        "\n",
        "from scipy.stats import f as f_dist\n",
        "f = f_dist.ppf(1-alpha,k, n-p)\n",
        "F0 = MSR/MSE    # ANOVA\n",
        "p_value = 1 - f_dist.cdf(F0, k, n-p)\n",
        "print(F0)\n",
        "print(f)\n",
        "print(p_value)\n",
        "\n"
      ],
      "execution_count": 38,
      "outputs": [
        {
          "output_type": "stream",
          "text": [
            "10.078310239375302\n",
            "4.120311726897633\n",
            "0.004960483270962435\n"
          ],
          "name": "stdout"
        }
      ]
    },
    {
      "cell_type": "markdown",
      "metadata": {
        "id": "Mv5QXx5sqMZc",
        "colab_type": "text"
      },
      "source": [
        "## confidence interval of parameters"
      ]
    },
    {
      "cell_type": "code",
      "metadata": {
        "id": "DcNOfmgiqPBq",
        "colab_type": "code",
        "colab": {
          "base_uri": "https://localhost:8080/",
          "height": 68
        },
        "outputId": "e172548c-fefa-422b-a884-d770af798fb0"
      },
      "source": [
        "from scipy.stats import t as t_dist\n",
        "t = t_dist.ppf(1-alpha/2,n-p)\n",
        "CI_theta_low = hat_theta-t*np.sqrt(MSE*np.diag(C))  # confidence intervals on parameters\n",
        "CI_theta_high = hat_theta+t*np.sqrt(MSE*np.diag(C))\n",
        "print(CI_theta_low)\n",
        "print(CI_theta_high)"
      ],
      "execution_count": 36,
      "outputs": [
        {
          "output_type": "stream",
          "text": [
            "[-4.94982734e+02  9.73466313e-02 -1.96364640e+00 -1.79543852e+00\n",
            " -1.79391356e+00]\n",
            "[248.720241     1.41723155  17.00121431   6.76159563   0.8316431 ]\n"
          ],
          "name": "stdout"
        }
      ]
    },
    {
      "cell_type": "markdown",
      "metadata": {
        "id": "GcAsL7zCp5pb",
        "colab_type": "text"
      },
      "source": [
        "## R2"
      ]
    },
    {
      "cell_type": "code",
      "metadata": {
        "id": "7H8jJEG_p8wF",
        "colab_type": "code",
        "colab": {
          "base_uri": "https://localhost:8080/",
          "height": 51
        },
        "outputId": "41402227-2ce4-43cf-d6e1-cd7dd5842cf1"
      },
      "source": [
        "R2 = SSR/SST   # R square\n",
        "R_adj2 = 1-SSE/(n-p)/(SST/(n-1))  # R adjusted square\n",
        "\n",
        "print(R2)\n",
        "print(R_adj2)"
      ],
      "execution_count": 35,
      "outputs": [
        {
          "output_type": "stream",
          "text": [
            "0.8520498731785177\n",
            "0.7675069435661507\n"
          ],
          "name": "stdout"
        }
      ]
    },
    {
      "cell_type": "markdown",
      "metadata": {
        "id": "LJ0w61ptT-9i",
        "colab_type": "text"
      },
      "source": [
        "## confidence interval of mean response and prediction"
      ]
    },
    {
      "cell_type": "code",
      "metadata": {
        "id": "SrJSm9MMUAdi",
        "colab_type": "code",
        "outputId": "e8b7d084-9f92-4614-d5a6-a3735bd868d1",
        "colab": {
          "base_uri": "https://localhost:8080/",
          "height": 51
        }
      },
      "source": [
        "# confidence interval on the mean response and predictions at all given x points\n",
        "X0 = np.array([1, 75, 24, 90, 98]).reshape(1,p)\n",
        "m = 1\n",
        "hat_mu_Y = X0@hat_theta\n",
        "CI_mu_Y_low = np.zeros((m,1))\n",
        "CI_mu_Y_high = np.zeros((m,1))\n",
        "CI_Y0_low = np.zeros((m,1))\n",
        "CI_Y0_high = np.zeros((m,1))\n",
        "for i in range(m):\n",
        "    CI_mu_Y_low[i] =  hat_mu_Y[i] - t*np.sqrt(MSE*X0[i,:]@C@X0[i,:].T);\n",
        "    CI_mu_Y_high[i] = hat_mu_Y[i] + t*np.sqrt(MSE*X0[i,:]@C@X0[i,:].T);\n",
        "    CI_Y0_low[i] =  hat_mu_Y[i] - t*np.sqrt(MSE*(1+X0[i,:]@C@X0[i,:].T));\n",
        "    CI_Y0_high[i] = hat_mu_Y[i] + t*np.sqrt(MSE*(1+X0[i,:]@C@X0[i,:].T));\n",
        "\n",
        "print(CI_Y0_low)\n",
        "print(CI_Y0_high)\n"
      ],
      "execution_count": 24,
      "outputs": [
        {
          "output_type": "stream",
          "text": [
            "[[257.2715077]]\n",
            "[[323.61262736]]\n"
          ],
          "name": "stdout"
        }
      ]
    },
    {
      "cell_type": "markdown",
      "metadata": {
        "id": "-fd6InyZkOOJ",
        "colab_type": "text"
      },
      "source": [
        "## residual analysis"
      ]
    },
    {
      "cell_type": "code",
      "metadata": {
        "id": "EOaJ4fgRpV5V",
        "colab_type": "code",
        "colab": {
          "base_uri": "https://localhost:8080/",
          "height": 279
        },
        "outputId": "4a6fd7e6-5afd-4cf6-ad84-6d925533b5f2"
      },
      "source": [
        "plt.scatter(np.arange(1, n+1, 1), e) \n",
        "plt.xlabel('observation id')\n",
        "plt.ylabel('residual')\n",
        "plt.show()"
      ],
      "execution_count": 33,
      "outputs": [
        {
          "output_type": "display_data",
          "data": {
            "image/png": "[encoded data removed]",
            "text/plain": [
              "<Figure size 432x288 with 1 Axes>"
            ]
          },
          "metadata": {
            "tags": [],
            "needs_background": "light"
          }
        }
      ]
    },
    {
      "cell_type": "code",
      "metadata": {
        "id": "JIIM3EKVkQh_",
        "colab_type": "code",
        "colab": {
          "base_uri": "https://localhost:8080/",
          "height": 279
        },
        "outputId": "cddab3e6-1908-4f4f-f4df-b8c30fa2b06f"
      },
      "source": [
        "std_e = e/np.sqrt(MSE)\n",
        "\n",
        "plt.scatter(np.arange(1, n+1, 1), std_e) \n",
        "plt.xlabel('observation id')\n",
        "plt.ylabel('standardized residual')\n",
        "plt.show()"
      ],
      "execution_count": 30,
      "outputs": [
        {
          "output_type": "display_data",
          "data": {
            "image/png": "[encoded data removed]",
            "text/plain": [
              "<Figure size 432x288 with 1 Axes>"
            ]
          },
          "metadata": {
            "tags": [],
            "needs_background": "light"
          }
        }
      ]
    },
    {
      "cell_type": "code",
      "metadata": {
        "id": "uv-FMKSMnsXR",
        "colab_type": "code",
        "colab": {
          "base_uri": "https://localhost:8080/",
          "height": 295
        },
        "outputId": "a3c3f1df-010f-44c4-f1d2-e72b898073d2"
      },
      "source": [
        "import scipy.stats as stats\n",
        "import pylab \n",
        "stats.probplot(std_e, dist=\"norm\", plot=pylab)\n",
        "pylab.show()"
      ],
      "execution_count": 28,
      "outputs": [
        {
          "output_type": "display_data",
          "data": {
            "image/png": "[encoded data removed]",
            "text/plain": [
              "<Figure size 432x288 with 1 Axes>"
            ]
          },
          "metadata": {
            "tags": [],
            "needs_background": "light"
          }
        }
      ]
    },
    {
      "cell_type": "code",
      "metadata": {
        "id": "aDqJNfkfpLCw",
        "colab_type": "code",
        "colab": {
          "base_uri": "https://localhost:8080/",
          "height": 295
        },
        "outputId": "66ac4f78-face-4f5b-a257-45b11491d84c"
      },
      "source": [
        "stats.probplot(e, dist=\"norm\", plot=pylab)\n",
        "pylab.show()"
      ],
      "execution_count": 32,
      "outputs": [
        {
          "output_type": "display_data",
          "data": {
            "image/png": "[encoded data removed]",
            "text/plain": [
              "<Figure size 432x288 with 1 Axes>"
            ]
          },
          "metadata": {
            "tags": [],
            "needs_background": "light"
          }
        }
      ]
    },
    {
      "cell_type": "code",
      "metadata": {
        "id": "OsdznacCoXkO",
        "colab_type": "code",
        "colab": {
          "base_uri": "https://localhost:8080/",
          "height": 279
        },
        "outputId": "18182f7f-d9e3-4ec4-c7fb-2dbebc64ca40"
      },
      "source": [
        "plt.scatter(hat_Y, std_e) \n",
        "plt.xlabel('predicted  response')\n",
        "plt.ylabel('standardized residual')\n",
        "plt.show()"
      ],
      "execution_count": 31,
      "outputs": [
        {
          "output_type": "display_data",
          "data": {
            "image/png": "[encoded data removed]",
            "text/plain": [
              "<Figure size 432x288 with 1 Axes>"
            ]
          },
          "metadata": {
            "tags": [],
            "needs_background": "light"
          }
        }
      ]
    },
    {
      "cell_type": "code",
      "metadata": {
        "id": "h7LTcnuope6d",
        "colab_type": "code",
        "colab": {
          "base_uri": "https://localhost:8080/",
          "height": 279
        },
        "outputId": "55ee5ae5-f3f7-43b4-e43b-15bb3405dbea"
      },
      "source": [
        "plt.scatter(X[:,1], std_e) \n",
        "plt.xlabel('x1')\n",
        "plt.ylabel('standardized residual')\n",
        "plt.show()"
      ],
      "execution_count": 34,
      "outputs": [
        {
          "output_type": "display_data",
          "data": {
            "image/png": "[encoded data removed]",
            "text/plain": [
              "<Figure size 432x288 with 1 Axes>"
            ]
          },
          "metadata": {
            "tags": [],
            "needs_background": "light"
          }
        }
      ]
    }
  ]
}